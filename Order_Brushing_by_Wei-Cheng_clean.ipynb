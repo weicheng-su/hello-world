{
 "cells": [
  {
   "cell_type": "code",
   "execution_count": 1,
   "metadata": {},
   "outputs": [],
   "source": [
    "import pandas as pd\n",
    "import numpy as np\n",
    "import datetime\n",
    "from datetime import datetime, timedelta\n",
    "import time"
   ]
  },
  {
   "cell_type": "code",
   "execution_count": 2,
   "metadata": {},
   "outputs": [],
   "source": [
    "orders = pd.read_csv('order_brush_order.csv.zip', compression='zip', \n",
    "                                 header=0, sep=',', quotechar='\"')"
   ]
  },
  {
   "cell_type": "code",
   "execution_count": 3,
   "metadata": {},
   "outputs": [
    {
     "data": {
      "text/plain": [
       "(222750, 4)"
      ]
     },
     "execution_count": 3,
     "metadata": {},
     "output_type": "execute_result"
    }
   ],
   "source": [
    "orders.shape"
   ]
  },
  {
   "cell_type": "code",
   "execution_count": 4,
   "metadata": {
    "scrolled": true
   },
   "outputs": [
    {
     "data": {
      "text/html": [
       "<div>\n",
       "<style scoped>\n",
       "    .dataframe tbody tr th:only-of-type {\n",
       "        vertical-align: middle;\n",
       "    }\n",
       "\n",
       "    .dataframe tbody tr th {\n",
       "        vertical-align: top;\n",
       "    }\n",
       "\n",
       "    .dataframe thead th {\n",
       "        text-align: right;\n",
       "    }\n",
       "</style>\n",
       "<table border=\"1\" class=\"dataframe\">\n",
       "  <thead>\n",
       "    <tr style=\"text-align: right;\">\n",
       "      <th></th>\n",
       "      <th>orderid</th>\n",
       "      <th>shopid</th>\n",
       "      <th>userid</th>\n",
       "      <th>event_time</th>\n",
       "    </tr>\n",
       "  </thead>\n",
       "  <tbody>\n",
       "    <tr>\n",
       "      <td>0</td>\n",
       "      <td>31076582227611</td>\n",
       "      <td>93950878</td>\n",
       "      <td>30530270</td>\n",
       "      <td>2019-12-27 00:23:03</td>\n",
       "    </tr>\n",
       "    <tr>\n",
       "      <td>1</td>\n",
       "      <td>31118059853484</td>\n",
       "      <td>156423439</td>\n",
       "      <td>46057927</td>\n",
       "      <td>2019-12-27 11:54:20</td>\n",
       "    </tr>\n",
       "    <tr>\n",
       "      <td>2</td>\n",
       "      <td>31123355095755</td>\n",
       "      <td>173699291</td>\n",
       "      <td>67341739</td>\n",
       "      <td>2019-12-27 13:22:35</td>\n",
       "    </tr>\n",
       "    <tr>\n",
       "      <td>3</td>\n",
       "      <td>31122059872723</td>\n",
       "      <td>63674025</td>\n",
       "      <td>149380322</td>\n",
       "      <td>2019-12-27 13:01:00</td>\n",
       "    </tr>\n",
       "    <tr>\n",
       "      <td>4</td>\n",
       "      <td>31117075665123</td>\n",
       "      <td>127249066</td>\n",
       "      <td>149493217</td>\n",
       "      <td>2019-12-27 11:37:55</td>\n",
       "    </tr>\n",
       "    <tr>\n",
       "      <td>5</td>\n",
       "      <td>31119725718155</td>\n",
       "      <td>173811070</td>\n",
       "      <td>116451780</td>\n",
       "      <td>2019-12-27 12:22:05</td>\n",
       "    </tr>\n",
       "    <tr>\n",
       "      <td>6</td>\n",
       "      <td>31151322178251</td>\n",
       "      <td>107921853</td>\n",
       "      <td>166741763</td>\n",
       "      <td>2019-12-27 21:08:43</td>\n",
       "    </tr>\n",
       "    <tr>\n",
       "      <td>7</td>\n",
       "      <td>31079856153738</td>\n",
       "      <td>178400128</td>\n",
       "      <td>61272835</td>\n",
       "      <td>2019-12-27 01:17:37</td>\n",
       "    </tr>\n",
       "    <tr>\n",
       "      <td>8</td>\n",
       "      <td>31118426867571</td>\n",
       "      <td>147941492</td>\n",
       "      <td>10986763</td>\n",
       "      <td>2019-12-27 12:00:27</td>\n",
       "    </tr>\n",
       "    <tr>\n",
       "      <td>9</td>\n",
       "      <td>31133458226149</td>\n",
       "      <td>164933170</td>\n",
       "      <td>135957741</td>\n",
       "      <td>2019-12-27 16:10:59</td>\n",
       "    </tr>\n",
       "    <tr>\n",
       "      <td>10</td>\n",
       "      <td>31087300300603</td>\n",
       "      <td>9374147</td>\n",
       "      <td>126960343</td>\n",
       "      <td>2019-12-27 03:21:40</td>\n",
       "    </tr>\n",
       "    <tr>\n",
       "      <td>11</td>\n",
       "      <td>31111874726505</td>\n",
       "      <td>145694343</td>\n",
       "      <td>51755513</td>\n",
       "      <td>2019-12-27 10:11:14</td>\n",
       "    </tr>\n",
       "    <tr>\n",
       "      <td>12</td>\n",
       "      <td>31160253480807</td>\n",
       "      <td>96464079</td>\n",
       "      <td>67549902</td>\n",
       "      <td>2019-12-27 23:37:33</td>\n",
       "    </tr>\n",
       "    <tr>\n",
       "      <td>13</td>\n",
       "      <td>31121051803936</td>\n",
       "      <td>30988921</td>\n",
       "      <td>96009561</td>\n",
       "      <td>2019-12-27 12:44:12</td>\n",
       "    </tr>\n",
       "    <tr>\n",
       "      <td>14</td>\n",
       "      <td>31118157638442</td>\n",
       "      <td>199867753</td>\n",
       "      <td>60686479</td>\n",
       "      <td>2019-12-27 11:55:58</td>\n",
       "    </tr>\n",
       "    <tr>\n",
       "      <td>15</td>\n",
       "      <td>31147202450773</td>\n",
       "      <td>67162407</td>\n",
       "      <td>71298029</td>\n",
       "      <td>2019-12-27 20:00:03</td>\n",
       "    </tr>\n",
       "    <tr>\n",
       "      <td>16</td>\n",
       "      <td>31123334888264</td>\n",
       "      <td>65883234</td>\n",
       "      <td>29949602</td>\n",
       "      <td>2019-12-27 13:22:15</td>\n",
       "    </tr>\n",
       "    <tr>\n",
       "      <td>17</td>\n",
       "      <td>31112236079482</td>\n",
       "      <td>33242381</td>\n",
       "      <td>145692427</td>\n",
       "      <td>2019-12-27 10:17:16</td>\n",
       "    </tr>\n",
       "    <tr>\n",
       "      <td>18</td>\n",
       "      <td>31079619874401</td>\n",
       "      <td>3285661</td>\n",
       "      <td>59050947</td>\n",
       "      <td>2019-12-27 01:13:40</td>\n",
       "    </tr>\n",
       "    <tr>\n",
       "      <td>19</td>\n",
       "      <td>31135103577841</td>\n",
       "      <td>95138572</td>\n",
       "      <td>16021925</td>\n",
       "      <td>2019-12-27 16:38:24</td>\n",
       "    </tr>\n",
       "  </tbody>\n",
       "</table>\n",
       "</div>"
      ],
      "text/plain": [
       "           orderid     shopid     userid           event_time\n",
       "0   31076582227611   93950878   30530270  2019-12-27 00:23:03\n",
       "1   31118059853484  156423439   46057927  2019-12-27 11:54:20\n",
       "2   31123355095755  173699291   67341739  2019-12-27 13:22:35\n",
       "3   31122059872723   63674025  149380322  2019-12-27 13:01:00\n",
       "4   31117075665123  127249066  149493217  2019-12-27 11:37:55\n",
       "5   31119725718155  173811070  116451780  2019-12-27 12:22:05\n",
       "6   31151322178251  107921853  166741763  2019-12-27 21:08:43\n",
       "7   31079856153738  178400128   61272835  2019-12-27 01:17:37\n",
       "8   31118426867571  147941492   10986763  2019-12-27 12:00:27\n",
       "9   31133458226149  164933170  135957741  2019-12-27 16:10:59\n",
       "10  31087300300603    9374147  126960343  2019-12-27 03:21:40\n",
       "11  31111874726505  145694343   51755513  2019-12-27 10:11:14\n",
       "12  31160253480807   96464079   67549902  2019-12-27 23:37:33\n",
       "13  31121051803936   30988921   96009561  2019-12-27 12:44:12\n",
       "14  31118157638442  199867753   60686479  2019-12-27 11:55:58\n",
       "15  31147202450773   67162407   71298029  2019-12-27 20:00:03\n",
       "16  31123334888264   65883234   29949602  2019-12-27 13:22:15\n",
       "17  31112236079482   33242381  145692427  2019-12-27 10:17:16\n",
       "18  31079619874401    3285661   59050947  2019-12-27 01:13:40\n",
       "19  31135103577841   95138572   16021925  2019-12-27 16:38:24"
      ]
     },
     "execution_count": 4,
     "metadata": {},
     "output_type": "execute_result"
    }
   ],
   "source": [
    "orders.head(20)"
   ]
  },
  {
   "cell_type": "code",
   "execution_count": 5,
   "metadata": {},
   "outputs": [],
   "source": [
    "orders['event_time'] = pd.to_datetime(orders['event_time'])  "
   ]
  },
  {
   "cell_type": "code",
   "execution_count": 6,
   "metadata": {},
   "outputs": [
    {
     "data": {
      "text/plain": [
       "147941492    11703\n",
       "61556313      6691\n",
       "54615708      2640\n",
       "91799978       707\n",
       "57189823       687\n",
       "             ...  \n",
       "158235164        1\n",
       "147997211        1\n",
       "166898182        1\n",
       "194982850        1\n",
       "189530112        1\n",
       "Name: shopid, Length: 18770, dtype: int64"
      ]
     },
     "execution_count": 6,
     "metadata": {},
     "output_type": "execute_result"
    }
   ],
   "source": [
    "orders['shopid'].value_counts()"
   ]
  },
  {
   "cell_type": "code",
   "execution_count": 7,
   "metadata": {},
   "outputs": [],
   "source": [
    "# group_shops = orders.groupby('shopid')"
   ]
  },
  {
   "cell_type": "code",
   "execution_count": 2,
   "metadata": {},
   "outputs": [],
   "source": [
    "# group_shops.groups"
   ]
  },
  {
   "cell_type": "code",
   "execution_count": null,
   "metadata": {},
   "outputs": [],
   "source": [
    "# group_shops.groups.keys()"
   ]
  },
  {
   "cell_type": "markdown",
   "metadata": {},
   "source": [
    "## 主要運算的部分"
   ]
  },
  {
   "cell_type": "code",
   "execution_count": 19,
   "metadata": {},
   "outputs": [
    {
     "name": "stderr",
     "output_type": "stream",
     "text": [
      "/Users/leosu/anaconda3/lib/python3.7/site-packages/ipykernel_launcher.py:14: SettingWithCopyWarning: \n",
      "A value is trying to be set on a copy of a slice from a DataFrame.\n",
      "Try using .loc[row_indexer,col_indexer] = value instead\n",
      "\n",
      "See the caveats in the documentation: http://pandas.pydata.org/pandas-docs/stable/user_guide/indexing.html#returning-a-view-versus-a-copy\n",
      "  \n",
      "/Users/leosu/anaconda3/lib/python3.7/site-packages/ipykernel_launcher.py:15: SettingWithCopyWarning: \n",
      "A value is trying to be set on a copy of a slice from a DataFrame\n",
      "\n",
      "See the caveats in the documentation: http://pandas.pydata.org/pandas-docs/stable/user_guide/indexing.html#returning-a-view-versus-a-copy\n",
      "  from ipykernel import kernelapp as app\n"
     ]
    },
    {
     "name": "stdout",
     "output_type": "stream",
     "text": [
      "Progress 100.0%\r"
     ]
    }
   ],
   "source": [
    "df_result = pd.DataFrame(columns = [\"shopid\",\"userid\"]) #先建立一個空的DataFrame來裝最後要輸出的結果\n",
    "\n",
    "\n",
    "##########################################\n",
    "# 用來計算執行進度的\n",
    "total_shopid = orders.shopid.nunique() #18770\n",
    "x = 1\n",
    "##########################################\n",
    "\n",
    "for (shopid, group) in orders.groupby('shopid'): # 對 shopid 做 groupby, group 會是每個不同 shopid 各自的 dataframe\n",
    "\n",
    "    #建立一個空的 DataFrame，要用來存每間店出現在 order brushing period 中的所有資料\n",
    "    df_order_brushing = pd.DataFrame(columns = [\"orderid\",\"shopid\",\"userid\",\"event_time\",\"timestamp\"]) \n",
    "\n",
    "    # 把時間轉換成timestamp，並根據時間先後做排序\n",
    "    group['timestamp'] = group[\"event_time\"].values.astype(np.int64) // 10 ** 9 # 轉換成timestamp（全部轉換成多少秒）\n",
    "    group.sort_values(by=['timestamp'], inplace=True) #根據時間先後做排序\n",
    "    group = group.reset_index(drop = True)\n",
    "\n",
    "    # 用類似 window 的方式，把每筆資料加1小時後的區段皆做檢測\n",
    "    for i in range(group[\"timestamp\"].size): #用 for i in range(group.shape[0]): 也可以\n",
    "        flag = group.at[i,\"timestamp\"] # flag 代表當下挑的那筆資料，往後再加3600秒\n",
    "        mask = (group[\"timestamp\"] >= flag) & (group[\"timestamp\"] <= (flag+3600))\n",
    "        df_small = group.loc[mask] # df_small 是在這一小時內的資料\n",
    "\n",
    "        # calculate the concetrate rate\n",
    "        number_of_orders = df_small.shape[0]\n",
    "        number_of_unique_buyers = df_small.userid.nunique()\n",
    "        concentrate_rate = number_of_orders/number_of_unique_buyers\n",
    "\n",
    "        if (concentrate_rate >= 3): # concentrate_rate >= 3，代表這一段資料裡有 order brushing\n",
    "            # 把所有在 order brushing period 中的資料都存在 df_order_brushing 這個 DataFrame 裡\n",
    "            df_order_brushing = pd.concat([df_order_brushing, df_small], axis=0) \n",
    "\n",
    "            \n",
    "    # 計算在 order brusing period 中的每個 userid 的 porportion rate，並存到 df_order_proportion 裡\n",
    "    total_brushing = df_order_brushing.shape[0] # total number of orders during all order brushing periods\n",
    "    df_order_proportion = (df_order_brushing[\"userid\"].value_counts()/total_brushing).to_frame(name = \"order_proportion\")\n",
    "    df_order_proportion.reset_index(level=0, inplace=True)\n",
    "    df_order_proportion.columns =['userid', 'order_proportion']\n",
    "\n",
    "    # find out which user is the suspicious buyer (having higest order proportion)\n",
    "    max_value = df_order_proportion['order_proportion'].max()\n",
    "    #use max_order_brushing_list to save the suspicious buyers' userid\n",
    "    max_order_brushing_list = df_order_proportion[df_order_proportion['order_proportion'] == max_value].userid.tolist()\n",
    "    max_order_brushing_list.sort() # 讓這些 userid 照數字大小排好（題目要求）\n",
    "\n",
    "    \n",
    "    # 把最後要輸出的結果 concat 到 df_result 上面\n",
    "    if(len(max_order_brushing_list)==0):\n",
    "        df_result = df_result.append({'shopid': shopid, 'userid':0}, ignore_index=True)\n",
    "        print(\"Progress {:2.1%}\".format(x / total_shopid), end=\"\\r\")\n",
    "        x = x+1\n",
    "\n",
    "    elif(len(max_order_brushing_list)==1):\n",
    "        userid_result = max_order_brushing_list[0]\n",
    "        df_result = df_result.append({'shopid': shopid, 'userid': userid_result}, ignore_index=True)\n",
    "        print(\"Progress {:2.1%}\".format(x / total_shopid), end=\"\\r\")\n",
    "        x = x+1\n",
    "    \n",
    "    else:\n",
    "        userid_result = '&'\n",
    "        userid_result = userid_result.join(map(str, max_order_brushing_list)) #先轉換成 string 後，再用&把每個元素連在一起\n",
    "        df_result = df_result.append({'shopid': shopid, 'userid': userid_result}, ignore_index=True)\n",
    "        print(\"Progress {:2.1%}\".format(x / total_shopid), end=\"\\r\")\n",
    "        x = x+1\n"
   ]
  },
  {
   "cell_type": "markdown",
   "metadata": {},
   "source": [
    "### Save file"
   ]
  },
  {
   "cell_type": "code",
   "execution_count": 20,
   "metadata": {},
   "outputs": [
    {
     "name": "stdout",
     "output_type": "stream",
     "text": [
      "The file will be saved under this path:  /Users/leosu/Desktop/Shopee_Code_League/competition/01_Order_Brushing\n"
     ]
    }
   ],
   "source": [
    "import os\n",
    "print(\"The file will be saved under this path: \", os.getcwd())\n",
    "export_csv = df_result.to_csv (r'submission_' + time.strftime(\"%Y-%m-%d %H%M%S\", time.localtime()) + '.csv', \n",
    "                             index = None, header = True) "
   ]
  },
  {
   "cell_type": "code",
   "execution_count": null,
   "metadata": {},
   "outputs": [],
   "source": []
  },
  {
   "cell_type": "code",
   "execution_count": 21,
   "metadata": {
    "scrolled": true
   },
   "outputs": [],
   "source": [
    "# 測試用，可以挑任一 shopid 的資料出來看\n",
    "test_group = group_shops.get_group(54257623)\n",
    "test_group['timestamp'] = test_group[\"event_time\"].values.astype(np.int64) // 10 ** 9\n",
    "test_group.sort_values(by=['timestamp'], inplace=True)\n",
    "test_group = test_group.reset_index(drop = True)\n",
    "test_group"
   ]
  },
  {
   "cell_type": "code",
   "execution_count": null,
   "metadata": {},
   "outputs": [],
   "source": []
  }
 ],
 "metadata": {
  "kernelspec": {
   "display_name": "Python 3",
   "language": "python",
   "name": "python3"
  },
  "language_info": {
   "codemirror_mode": {
    "name": "ipython",
    "version": 3
   },
   "file_extension": ".py",
   "mimetype": "text/x-python",
   "name": "python",
   "nbconvert_exporter": "python",
   "pygments_lexer": "ipython3",
   "version": "3.7.4"
  },
  "toc": {
   "base_numbering": 1,
   "nav_menu": {},
   "number_sections": true,
   "sideBar": true,
   "skip_h1_title": false,
   "title_cell": "Table of Contents",
   "title_sidebar": "Contents",
   "toc_cell": false,
   "toc_position": {},
   "toc_section_display": true,
   "toc_window_display": false
  }
 },
 "nbformat": 4,
 "nbformat_minor": 2
}
